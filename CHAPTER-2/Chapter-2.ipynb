{
 "cells": [
  {
   "cell_type": "markdown",
   "id": "7c70241d-d2e2-4da2-9295-746e98dc82e6",
   "metadata": {},
   "source": [
    "# CHAPTER 2: _Better programming principles for efficient data science_\n",
    "\n",
    "---"
   ]
  },
  {
   "cell_type": "markdown",
   "id": "6414c281-ed46-4a32-ae3c-4e2e72d0f197",
   "metadata": {},
   "source": [
    "## Use `filter` in place of _for-loop_ when possible"
   ]
  },
  {
   "cell_type": "code",
   "execution_count": 1,
   "id": "55db5fa5-99bd-4667-88a8-3445e9cb1208",
   "metadata": {},
   "outputs": [],
   "source": [
    "ONE_MILLION = list(range(int(1e6)))\n",
    "\n",
    "def for_loop():\n",
    "    result = []\n",
    "    for ele in ONE_MILLION:\n",
    "        if not ele % 3:\n",
    "            result.append(ele)\n",
    "    return result\n",
    "\n",
    "def list_comprehension():\n",
    "    return [num for num in ONE_MILLION if not num % 3]\n",
    "\n",
    "def filter_fn():\n",
    "    return filter(lambda x: not x % 3, ONE_MILLION)"
   ]
  },
  {
   "cell_type": "code",
   "execution_count": 2,
   "id": "c861fac5-fc31-429a-a16b-057507ff35be",
   "metadata": {},
   "outputs": [
    {
     "name": "stdout",
     "output_type": "stream",
     "text": [
      "50.7 ms ± 3.88 ms per loop (mean ± std. dev. of 20 runs, 5 loops each)\n"
     ]
    }
   ],
   "source": [
    "%%timeit -r20 -n5\n",
    "for_loop()"
   ]
  },
  {
   "cell_type": "code",
   "execution_count": 3,
   "id": "457f6b17-1b01-4f9a-9179-49d8d03b728b",
   "metadata": {},
   "outputs": [
    {
     "name": "stdout",
     "output_type": "stream",
     "text": [
      "40.8 ms ± 2.91 ms per loop (mean ± std. dev. of 20 runs, 5 loops each)\n"
     ]
    }
   ],
   "source": [
    "%%timeit -r20 -n5\n",
    "list_comprehension()"
   ]
  },
  {
   "cell_type": "code",
   "execution_count": 4,
   "id": "df2316e6-b51c-4213-ae9e-9da47bc99e20",
   "metadata": {},
   "outputs": [
    {
     "name": "stdout",
     "output_type": "stream",
     "text": [
      "202 ns ± 69 ns per loop (mean ± std. dev. of 20 runs, 5 loops each)\n"
     ]
    }
   ],
   "source": [
    "%%timeit -r20 -n5\n",
    "filter_fn()"
   ]
  },
  {
   "cell_type": "markdown",
   "id": "38ccc4fb-a2bb-4fb1-be79-d24d1d1aa79f",
   "metadata": {},
   "source": [
    "## Use `set` to find unique elements"
   ]
  },
  {
   "cell_type": "code",
   "execution_count": 5,
   "id": "3ea385b8-5964-4b31-b962-19dd7801043a",
   "metadata": {},
   "outputs": [],
   "source": [
    "import random\n",
    "random_lst = [random.randint(1,100) for _ in range(100000)]\n",
    "\n",
    "def unique_for_loop():\n",
    "    unique_elements = []\n",
    "    for ele in random_lst:\n",
    "        if ele not in random_lst:\n",
    "            unique_elements.append(ele)\n",
    "    return unique_elements\n",
    "\n",
    "def unique_set():\n",
    "    return list(set(random_lst))"
   ]
  },
  {
   "cell_type": "code",
   "execution_count": 6,
   "id": "c674a7f4-7bc7-4b89-8270-b46d6c16654a",
   "metadata": {},
   "outputs": [
    {
     "name": "stdout",
     "output_type": "stream",
     "text": [
      "124 ms ± 5.13 ms per loop (mean ± std. dev. of 20 runs, 5 loops each)\n"
     ]
    }
   ],
   "source": [
    "%%timeit -r20 -n5\n",
    "unique_for_loop()"
   ]
  },
  {
   "cell_type": "code",
   "execution_count": 7,
   "id": "f9faf0f7-a05d-4724-b7c2-cc11f2f51d3a",
   "metadata": {},
   "outputs": [
    {
     "name": "stdout",
     "output_type": "stream",
     "text": [
      "864 µs ± 171 µs per loop (mean ± std. dev. of 20 runs, 5 loops each)\n"
     ]
    }
   ],
   "source": [
    "%%timeit -r20 -n5\n",
    "unique_set()"
   ]
  },
  {
   "cell_type": "markdown",
   "id": "84782849-e074-4525-ba80-ae806ecd23b3",
   "metadata": {},
   "source": [
    "### Combining `in` with sets"
   ]
  },
  {
   "cell_type": "code",
   "execution_count": 8,
   "id": "1044ba86-4c24-4c66-8384-1e72a6e09588",
   "metadata": {},
   "outputs": [
    {
     "name": "stdout",
     "output_type": "stream",
     "text": [
      "The element 22 exists in the list\n"
     ]
    }
   ],
   "source": [
    "a_long_list = [random.randint(1,100) for _ in range(100000)]\n",
    "duplicates_removed = set(a_long_list)\n",
    "ele = 22\n",
    "\n",
    "if ele in duplicates_removed:\n",
    "    print(f\"The element {ele} exists in the list\")"
   ]
  },
  {
   "cell_type": "markdown",
   "id": "6eb040d0-ec95-44a0-88d1-ce14728aa72b",
   "metadata": {},
   "source": [
    "## Use specialized data structure for counting\n",
    "\n",
    "Many a times, we need to count the frequency of variables or elements from a large corpus of text or blob of data. One natural instinct is to construct a dictionary where the variables are stored as keys and their corresponding count as the integer values.\n",
    "\n",
    "For this kind of situations involving counting, we can use a specialized data structure called `Counter` from the `collections` module of Python. We will see that using this built-in data structure, we can make the code compact, organized, and faster."
   ]
  },
  {
   "cell_type": "code",
   "execution_count": 9,
   "id": "22619887-b586-43ed-b634-407bc0adaf30",
   "metadata": {},
   "outputs": [],
   "source": [
    "from collections import Counter"
   ]
  },
  {
   "cell_type": "code",
   "execution_count": 10,
   "id": "30920644-e88d-4d25-ade8-b8ce02da8c1a",
   "metadata": {},
   "outputs": [],
   "source": [
    "text = \"\"\"It was the best of times, it was the worst of times, \n",
    "it was the age of wisdom, it was the age of foolishness, \n",
    "it was the epoch of belief, it was the epoch of incredulity, \n",
    "it was the season of Light, it was the season of Darkness, \n",
    "it was the spring of hope, it was the winter of despair, \n",
    "we had everything before us, we had nothing before us, \n",
    "we were all going direct to Heaven, we were all going direct the other way – \n",
    "in short, the period was so far like the present period, \n",
    "that some of its noisiest authorities insisted on its being received, \n",
    "for good or for evil, in the superlative degree of comparison only\n",
    "\"\"\""
   ]
  },
  {
   "cell_type": "code",
   "execution_count": 11,
   "id": "f5df999a-763e-404d-b54a-7ec94f4ef681",
   "metadata": {},
   "outputs": [],
   "source": [
    "def word_counts(text):\n",
    "    dict_words = {}\n",
    "    for w in text.split(' '):\n",
    "        if w in dict_words.keys():\n",
    "            dict_words[w]+=1\n",
    "        else:\n",
    "            dict_words[w] = 1\n",
    "    return dict_words"
   ]
  },
  {
   "cell_type": "code",
   "execution_count": 12,
   "id": "4384ea91-b012-470f-bf9d-6a9088a26a93",
   "metadata": {},
   "outputs": [
    {
     "name": "stdout",
     "output_type": "stream",
     "text": [
      "The slowest run took 4.17 times longer than the fastest. This could mean that an intermediate result is being cached.\n",
      "35.1 µs ± 13.1 µs per loop (mean ± std. dev. of 1000 runs, 10 loops each)\n"
     ]
    }
   ],
   "source": [
    "%%timeit -r1000 -n10\n",
    "word_counts(text)"
   ]
  },
  {
   "cell_type": "code",
   "execution_count": 13,
   "id": "cc519374-44b9-482c-8383-9f8fecc6a7be",
   "metadata": {},
   "outputs": [
    {
     "name": "stdout",
     "output_type": "stream",
     "text": [
      "The slowest run took 4.80 times longer than the fastest. This could mean that an intermediate result is being cached.\n",
      "52.9 µs ± 21.1 µs per loop (mean ± std. dev. of 1000 runs, 10 loops each)\n"
     ]
    }
   ],
   "source": [
    "%%timeit -r1000 -n10\n",
    "dict_words = word_counts(text)\n",
    "sorted([(v,i) for i,v in dict_words.items()],reverse=True)[:5]"
   ]
  },
  {
   "cell_type": "code",
   "execution_count": 14,
   "id": "3127c9e0-9e69-48f1-8fb9-943019a8f66d",
   "metadata": {},
   "outputs": [
    {
     "data": {
      "text/plain": [
       "[(14, 'the'), (12, 'of'), (11, 'was'), (5, 'it'), (4, '\\nit')]"
      ]
     },
     "execution_count": 14,
     "metadata": {},
     "output_type": "execute_result"
    }
   ],
   "source": [
    "dict_words = word_counts(text)\n",
    "sorted([(v,i) for i,v in dict_words.items()],reverse=True)[:5]"
   ]
  },
  {
   "cell_type": "code",
   "execution_count": 15,
   "id": "42c648f8-dc3f-44b5-9cf7-2ab194eaa149",
   "metadata": {},
   "outputs": [
    {
     "data": {
      "text/plain": [
       "dict_items([('It', 1), ('was', 11), ('the', 14), ('best', 1), ('of', 12), ('times,', 2), ('it', 5), ('worst', 1), ('\\nit', 4), ('age', 2), ('wisdom,', 1), ('foolishness,', 1), ('epoch', 2), ('belief,', 1), ('incredulity,', 1), ('season', 2), ('Light,', 1), ('Darkness,', 1), ('spring', 1), ('hope,', 1), ('winter', 1), ('despair,', 1), ('\\nwe', 2), ('had', 2), ('everything', 1), ('before', 2), ('us,', 2), ('we', 2), ('nothing', 1), ('were', 2), ('all', 2), ('going', 2), ('direct', 2), ('to', 1), ('Heaven,', 1), ('other', 1), ('way', 1), ('–', 1), ('\\nin', 1), ('short,', 1), ('period', 1), ('so', 1), ('far', 1), ('like', 1), ('present', 1), ('period,', 1), ('\\nthat', 1), ('some', 1), ('its', 2), ('noisiest', 1), ('authorities', 1), ('insisted', 1), ('on', 1), ('being', 1), ('received,', 1), ('\\nfor', 1), ('good', 1), ('or', 1), ('for', 1), ('evil,', 1), ('in', 1), ('superlative', 1), ('degree', 1), ('comparison', 1), ('only\\n', 1)])"
      ]
     },
     "execution_count": 15,
     "metadata": {},
     "output_type": "execute_result"
    }
   ],
   "source": [
    "dict_words.items()"
   ]
  },
  {
   "cell_type": "code",
   "execution_count": 16,
   "id": "c623ea82-e5d9-467f-b65d-08b1b6f7ccca",
   "metadata": {},
   "outputs": [
    {
     "name": "stdout",
     "output_type": "stream",
     "text": [
      "22.1 µs ± 6.67 µs per loop (mean ± std. dev. of 1000 runs, 10 loops each)\n"
     ]
    }
   ],
   "source": [
    "%%timeit -r1000 -n10\n",
    "counter_words = Counter(text.split(' '))"
   ]
  },
  {
   "cell_type": "code",
   "execution_count": 17,
   "id": "cf023ccb-0747-46e9-9315-033dbc3db880",
   "metadata": {},
   "outputs": [
    {
     "data": {
      "text/plain": [
       "dict_items([('It', 1), ('was', 11), ('the', 14), ('best', 1), ('of', 12), ('times,', 2), ('it', 5), ('worst', 1), ('\\nit', 4), ('age', 2), ('wisdom,', 1), ('foolishness,', 1), ('epoch', 2), ('belief,', 1), ('incredulity,', 1), ('season', 2), ('Light,', 1), ('Darkness,', 1), ('spring', 1), ('hope,', 1), ('winter', 1), ('despair,', 1), ('\\nwe', 2), ('had', 2), ('everything', 1), ('before', 2), ('us,', 2), ('we', 2), ('nothing', 1), ('were', 2), ('all', 2), ('going', 2), ('direct', 2), ('to', 1), ('Heaven,', 1), ('other', 1), ('way', 1), ('–', 1), ('\\nin', 1), ('short,', 1), ('period', 1), ('so', 1), ('far', 1), ('like', 1), ('present', 1), ('period,', 1), ('\\nthat', 1), ('some', 1), ('its', 2), ('noisiest', 1), ('authorities', 1), ('insisted', 1), ('on', 1), ('being', 1), ('received,', 1), ('\\nfor', 1), ('good', 1), ('or', 1), ('for', 1), ('evil,', 1), ('in', 1), ('superlative', 1), ('degree', 1), ('comparison', 1), ('only\\n', 1)])"
      ]
     },
     "execution_count": 17,
     "metadata": {},
     "output_type": "execute_result"
    }
   ],
   "source": [
    "counter_words = Counter(text.split(' '))\n",
    "counter_words.items()"
   ]
  },
  {
   "cell_type": "code",
   "execution_count": 18,
   "id": "61ba5c84-62ee-42c1-b4d6-f74ecb70ae41",
   "metadata": {},
   "outputs": [
    {
     "name": "stdout",
     "output_type": "stream",
     "text": [
      "The slowest run took 18.32 times longer than the fastest. This could mean that an intermediate result is being cached.\n",
      "12.5 µs ± 8.15 µs per loop (mean ± std. dev. of 1000 runs, 10 loops each)\n"
     ]
    }
   ],
   "source": [
    "%%timeit -r1000 -n10\n",
    "counter_words.most_common(5)"
   ]
  },
  {
   "cell_type": "code",
   "execution_count": 19,
   "id": "385e17c9-5a8b-4e7d-8227-110364b4a8b9",
   "metadata": {},
   "outputs": [
    {
     "data": {
      "text/plain": [
       "[('the', 14), ('of', 12), ('was', 11), ('it', 5), ('\\nit', 4)]"
      ]
     },
     "execution_count": 19,
     "metadata": {},
     "output_type": "execute_result"
    }
   ],
   "source": [
    "counter_words.most_common(5)"
   ]
  },
  {
   "cell_type": "markdown",
   "id": "cbbe6216-14d2-4a66-b40e-f255774408e0",
   "metadata": {},
   "source": [
    "## Use `Itertools` for combinatorial data structures"
   ]
  },
  {
   "cell_type": "code",
   "execution_count": 20,
   "id": "6226217d-dc76-4b78-9b28-4eed2628b036",
   "metadata": {},
   "outputs": [],
   "source": [
    "num_features = ['num_feature-'+str(i) for i in range(1,5)]\n",
    "cat_features = ['cat_feature-'+str(i) for i in range(1,5)]"
   ]
  },
  {
   "cell_type": "code",
   "execution_count": 21,
   "id": "52d0a53b-7596-4bfd-b7b7-efd00b3f988f",
   "metadata": {},
   "outputs": [
    {
     "data": {
      "text/plain": [
       "['num_feature-1', 'num_feature-2', 'num_feature-3', 'num_feature-4']"
      ]
     },
     "execution_count": 21,
     "metadata": {},
     "output_type": "execute_result"
    }
   ],
   "source": [
    "num_features"
   ]
  },
  {
   "cell_type": "code",
   "execution_count": 22,
   "id": "ffe86da1-158b-4c37-9006-4b096b9b54ce",
   "metadata": {},
   "outputs": [
    {
     "data": {
      "text/plain": [
       "['cat_feature-1', 'cat_feature-2', 'cat_feature-3', 'cat_feature-4']"
      ]
     },
     "execution_count": 22,
     "metadata": {},
     "output_type": "execute_result"
    }
   ],
   "source": [
    "cat_features"
   ]
  },
  {
   "cell_type": "code",
   "execution_count": 23,
   "id": "271a6d85-30fb-4af8-b148-daf5764b82f9",
   "metadata": {},
   "outputs": [],
   "source": [
    "from itertools import product, permutations, combinations"
   ]
  },
  {
   "cell_type": "code",
   "execution_count": 24,
   "id": "6ca4a357-9ab3-467e-8e9d-64cde671a389",
   "metadata": {},
   "outputs": [],
   "source": [
    "#prod_list = list(product(num_features,cat_features,repeat=2))\n",
    "perm_list = list(permutations(zip(num_features, cat_features),2))"
   ]
  },
  {
   "cell_type": "code",
   "execution_count": 25,
   "id": "b403e473-60b0-48e5-a8d1-e36a74df525a",
   "metadata": {},
   "outputs": [
    {
     "name": "stdout",
     "output_type": "stream",
     "text": [
      "(('num_feature-1', 'cat_feature-1'), ('num_feature-2', 'cat_feature-2')), (('num_feature-1', 'cat_feature-1'), ('num_feature-3', 'cat_feature-3')), (('num_feature-1', 'cat_feature-1'), ('num_feature-4', 'cat_feature-4')), (('num_feature-2', 'cat_feature-2'), ('num_feature-1', 'cat_feature-1')), (('num_feature-2', 'cat_feature-2'), ('num_feature-3', 'cat_feature-3')), (('num_feature-2', 'cat_feature-2'), ('num_feature-4', 'cat_feature-4')), (('num_feature-3', 'cat_feature-3'), ('num_feature-1', 'cat_feature-1')), (('num_feature-3', 'cat_feature-3'), ('num_feature-2', 'cat_feature-2')), (('num_feature-3', 'cat_feature-3'), ('num_feature-4', 'cat_feature-4')), (('num_feature-4', 'cat_feature-4'), ('num_feature-1', 'cat_feature-1')), (('num_feature-4', 'cat_feature-4'), ('num_feature-2', 'cat_feature-2')), (('num_feature-4', 'cat_feature-4'), ('num_feature-3', 'cat_feature-3')), "
     ]
    }
   ],
   "source": [
    "for i in perm_list:\n",
    "    print(i, end=', ')"
   ]
  },
  {
   "cell_type": "code",
   "execution_count": 26,
   "id": "99ce2d72-e749-4ed1-8ce7-1df4e6b2f3ca",
   "metadata": {},
   "outputs": [
    {
     "data": {
      "text/plain": [
       "[('num_feature-1', 'cat_feature-1'),\n",
       " ('num_feature-1', 'cat_feature-2'),\n",
       " ('num_feature-1', 'cat_feature-3'),\n",
       " ('num_feature-1', 'cat_feature-4'),\n",
       " ('num_feature-2', 'cat_feature-1'),\n",
       " ('num_feature-2', 'cat_feature-2'),\n",
       " ('num_feature-2', 'cat_feature-3'),\n",
       " ('num_feature-2', 'cat_feature-4'),\n",
       " ('num_feature-3', 'cat_feature-1'),\n",
       " ('num_feature-3', 'cat_feature-2'),\n",
       " ('num_feature-3', 'cat_feature-3'),\n",
       " ('num_feature-3', 'cat_feature-4'),\n",
       " ('num_feature-4', 'cat_feature-1'),\n",
       " ('num_feature-4', 'cat_feature-2'),\n",
       " ('num_feature-4', 'cat_feature-3'),\n",
       " ('num_feature-4', 'cat_feature-4')]"
      ]
     },
     "execution_count": 26,
     "metadata": {},
     "output_type": "execute_result"
    }
   ],
   "source": [
    "list(product(num_features, cat_features,repeat=1))"
   ]
  },
  {
   "cell_type": "code",
   "execution_count": 27,
   "id": "692a84f1-863c-473d-bb42-1ed749741ce7",
   "metadata": {},
   "outputs": [],
   "source": [
    "lst_features = []\n",
    "for i in num_features:\n",
    "    for j in cat_features:\n",
    "        lst_features.append((i,j))"
   ]
  },
  {
   "cell_type": "code",
   "execution_count": 28,
   "id": "739d063f-4342-4fb7-9434-33b412fe01ab",
   "metadata": {},
   "outputs": [
    {
     "data": {
      "text/plain": [
       "[('num_feature-1', 'cat_feature-1'),\n",
       " ('num_feature-1', 'cat_feature-2'),\n",
       " ('num_feature-1', 'cat_feature-3'),\n",
       " ('num_feature-1', 'cat_feature-4'),\n",
       " ('num_feature-2', 'cat_feature-1'),\n",
       " ('num_feature-2', 'cat_feature-2'),\n",
       " ('num_feature-2', 'cat_feature-3'),\n",
       " ('num_feature-2', 'cat_feature-4'),\n",
       " ('num_feature-3', 'cat_feature-1'),\n",
       " ('num_feature-3', 'cat_feature-2'),\n",
       " ('num_feature-3', 'cat_feature-3'),\n",
       " ('num_feature-3', 'cat_feature-4'),\n",
       " ('num_feature-4', 'cat_feature-1'),\n",
       " ('num_feature-4', 'cat_feature-2'),\n",
       " ('num_feature-4', 'cat_feature-3'),\n",
       " ('num_feature-4', 'cat_feature-4')]"
      ]
     },
     "execution_count": 28,
     "metadata": {},
     "output_type": "execute_result"
    }
   ],
   "source": [
    "lst_features"
   ]
  },
  {
   "cell_type": "code",
   "execution_count": 29,
   "id": "ae3c3823-7969-487f-b684-11537a742e6b",
   "metadata": {},
   "outputs": [],
   "source": [
    "num_features = ['num_feature-'+str(i) for i in range(1,11)]\n",
    "cat_features = ['cat_feature-'+str(i) for i in range(1,11)]"
   ]
  },
  {
   "cell_type": "code",
   "execution_count": 30,
   "id": "46133b1b-1d7c-4154-8cc5-023e33986239",
   "metadata": {},
   "outputs": [
    {
     "name": "stdout",
     "output_type": "stream",
     "text": [
      "5.48 µs ± 1.57 µs per loop (mean ± std. dev. of 100 runs, 10 loops each)\n"
     ]
    }
   ],
   "source": [
    "%%timeit -r100 -n10\n",
    "list(product(num_features, cat_features,repeat=1))"
   ]
  },
  {
   "cell_type": "code",
   "execution_count": 31,
   "id": "ea91beb8-29b7-463e-a46c-585bbf0a5668",
   "metadata": {},
   "outputs": [
    {
     "name": "stdout",
     "output_type": "stream",
     "text": [
      "The slowest run took 14.48 times longer than the fastest. This could mean that an intermediate result is being cached.\n",
      "20.7 µs ± 12.8 µs per loop (mean ± std. dev. of 100 runs, 10 loops each)\n"
     ]
    }
   ],
   "source": [
    "%%timeit -r100 -n10\n",
    "lst_features = []\n",
    "for i in num_features:\n",
    "    for j in cat_features:\n",
    "        lst_features.append((i,j))"
   ]
  },
  {
   "cell_type": "code",
   "execution_count": 32,
   "id": "d6497a0c-c394-4c28-8c9b-3b40f8d337f2",
   "metadata": {},
   "outputs": [],
   "source": [
    "num_features = ['num_feature-'+str(i) for i in range(1,5)]\n",
    "cat_features = ['cat_feature-'+str(i) for i in range(1,5)]"
   ]
  },
  {
   "cell_type": "code",
   "execution_count": 33,
   "id": "670ef1f8-acfe-434d-a6d7-e821a45989e3",
   "metadata": {},
   "outputs": [],
   "source": [
    "comb_features = list(combinations(num_features+cat_features, r=5))"
   ]
  },
  {
   "cell_type": "code",
   "execution_count": 34,
   "id": "81e0378e-882b-4f80-804c-99952cf9faf5",
   "metadata": {},
   "outputs": [
    {
     "name": "stdout",
     "output_type": "stream",
     "text": [
      "Model 0: num_feature-1, num_feature-2, num_feature-3, num_feature-4, cat_feature-1, \n",
      "Model 1: num_feature-1, num_feature-2, num_feature-3, num_feature-4, cat_feature-2, \n",
      "Model 2: num_feature-1, num_feature-2, num_feature-3, num_feature-4, cat_feature-3, \n",
      "Model 3: num_feature-1, num_feature-2, num_feature-3, num_feature-4, cat_feature-4, \n",
      "Model 4: num_feature-1, num_feature-2, num_feature-3, cat_feature-1, cat_feature-2, \n",
      "Model 5: num_feature-1, num_feature-2, num_feature-3, cat_feature-1, cat_feature-3, \n",
      "Model 6: num_feature-1, num_feature-2, num_feature-3, cat_feature-1, cat_feature-4, \n",
      "Model 7: num_feature-1, num_feature-2, num_feature-3, cat_feature-2, cat_feature-3, \n",
      "Model 8: num_feature-1, num_feature-2, num_feature-3, cat_feature-2, cat_feature-4, \n",
      "Model 9: num_feature-1, num_feature-2, num_feature-3, cat_feature-3, cat_feature-4, \n",
      "Model 10: num_feature-1, num_feature-2, num_feature-4, cat_feature-1, cat_feature-2, \n",
      "Model 11: num_feature-1, num_feature-2, num_feature-4, cat_feature-1, cat_feature-3, \n",
      "Model 12: num_feature-1, num_feature-2, num_feature-4, cat_feature-1, cat_feature-4, \n",
      "Model 13: num_feature-1, num_feature-2, num_feature-4, cat_feature-2, cat_feature-3, \n",
      "Model 14: num_feature-1, num_feature-2, num_feature-4, cat_feature-2, cat_feature-4, \n",
      "Model 15: num_feature-1, num_feature-2, num_feature-4, cat_feature-3, cat_feature-4, \n",
      "Model 16: num_feature-1, num_feature-2, cat_feature-1, cat_feature-2, cat_feature-3, \n",
      "Model 17: num_feature-1, num_feature-2, cat_feature-1, cat_feature-2, cat_feature-4, \n",
      "Model 18: num_feature-1, num_feature-2, cat_feature-1, cat_feature-3, cat_feature-4, \n",
      "Model 19: num_feature-1, num_feature-2, cat_feature-2, cat_feature-3, cat_feature-4, \n",
      "Model 20: num_feature-1, num_feature-3, num_feature-4, cat_feature-1, cat_feature-2, \n",
      "Model 21: num_feature-1, num_feature-3, num_feature-4, cat_feature-1, cat_feature-3, \n",
      "Model 22: num_feature-1, num_feature-3, num_feature-4, cat_feature-1, cat_feature-4, \n",
      "Model 23: num_feature-1, num_feature-3, num_feature-4, cat_feature-2, cat_feature-3, \n",
      "Model 24: num_feature-1, num_feature-3, num_feature-4, cat_feature-2, cat_feature-4, \n",
      "Model 25: num_feature-1, num_feature-3, num_feature-4, cat_feature-3, cat_feature-4, \n",
      "Model 26: num_feature-1, num_feature-3, cat_feature-1, cat_feature-2, cat_feature-3, \n",
      "Model 27: num_feature-1, num_feature-3, cat_feature-1, cat_feature-2, cat_feature-4, \n",
      "Model 28: num_feature-1, num_feature-3, cat_feature-1, cat_feature-3, cat_feature-4, \n",
      "Model 29: num_feature-1, num_feature-3, cat_feature-2, cat_feature-3, cat_feature-4, \n",
      "Model 30: num_feature-1, num_feature-4, cat_feature-1, cat_feature-2, cat_feature-3, \n",
      "Model 31: num_feature-1, num_feature-4, cat_feature-1, cat_feature-2, cat_feature-4, \n",
      "Model 32: num_feature-1, num_feature-4, cat_feature-1, cat_feature-3, cat_feature-4, \n",
      "Model 33: num_feature-1, num_feature-4, cat_feature-2, cat_feature-3, cat_feature-4, \n",
      "Model 34: num_feature-1, cat_feature-1, cat_feature-2, cat_feature-3, cat_feature-4, \n",
      "Model 35: num_feature-2, num_feature-3, num_feature-4, cat_feature-1, cat_feature-2, \n",
      "Model 36: num_feature-2, num_feature-3, num_feature-4, cat_feature-1, cat_feature-3, \n",
      "Model 37: num_feature-2, num_feature-3, num_feature-4, cat_feature-1, cat_feature-4, \n",
      "Model 38: num_feature-2, num_feature-3, num_feature-4, cat_feature-2, cat_feature-3, \n",
      "Model 39: num_feature-2, num_feature-3, num_feature-4, cat_feature-2, cat_feature-4, \n",
      "Model 40: num_feature-2, num_feature-3, num_feature-4, cat_feature-3, cat_feature-4, \n",
      "Model 41: num_feature-2, num_feature-3, cat_feature-1, cat_feature-2, cat_feature-3, \n",
      "Model 42: num_feature-2, num_feature-3, cat_feature-1, cat_feature-2, cat_feature-4, \n",
      "Model 43: num_feature-2, num_feature-3, cat_feature-1, cat_feature-3, cat_feature-4, \n",
      "Model 44: num_feature-2, num_feature-3, cat_feature-2, cat_feature-3, cat_feature-4, \n",
      "Model 45: num_feature-2, num_feature-4, cat_feature-1, cat_feature-2, cat_feature-3, \n",
      "Model 46: num_feature-2, num_feature-4, cat_feature-1, cat_feature-2, cat_feature-4, \n",
      "Model 47: num_feature-2, num_feature-4, cat_feature-1, cat_feature-3, cat_feature-4, \n",
      "Model 48: num_feature-2, num_feature-4, cat_feature-2, cat_feature-3, cat_feature-4, \n",
      "Model 49: num_feature-2, cat_feature-1, cat_feature-2, cat_feature-3, cat_feature-4, \n",
      "Model 50: num_feature-3, num_feature-4, cat_feature-1, cat_feature-2, cat_feature-3, \n",
      "Model 51: num_feature-3, num_feature-4, cat_feature-1, cat_feature-2, cat_feature-4, \n",
      "Model 52: num_feature-3, num_feature-4, cat_feature-1, cat_feature-3, cat_feature-4, \n",
      "Model 53: num_feature-3, num_feature-4, cat_feature-2, cat_feature-3, cat_feature-4, \n",
      "Model 54: num_feature-3, cat_feature-1, cat_feature-2, cat_feature-3, cat_feature-4, \n",
      "Model 55: num_feature-4, cat_feature-1, cat_feature-2, cat_feature-3, cat_feature-4, \n"
     ]
    }
   ],
   "source": [
    "for i,f in enumerate(comb_features):\n",
    "    print(f\"Model {i}\", end=': ')\n",
    "    for f1 in f:\n",
    "        print(f1, end=', ')\n",
    "    print()"
   ]
  },
  {
   "cell_type": "markdown",
   "id": "87486721-0a3d-4a67-bac2-ca837cf0ddc6",
   "metadata": {},
   "source": [
    "## Python’s `time` module is your friend"
   ]
  },
  {
   "cell_type": "code",
   "execution_count": 35,
   "id": "37cda5f1-49a9-4650-bd27-3d9106150be7",
   "metadata": {},
   "outputs": [],
   "source": [
    "from time import time, sleep"
   ]
  },
  {
   "cell_type": "code",
   "execution_count": 36,
   "id": "d06b88b4-e398-49f4-870c-4a8efddbd6aa",
   "metadata": {},
   "outputs": [],
   "source": [
    "# Function which just sleeps for 2 seconds\n",
    "def sleep_fn():\n",
    "    sleep(2)"
   ]
  },
  {
   "cell_type": "code",
   "execution_count": 37,
   "id": "ddc5e9cd-b76d-4058-9003-ffff1b223adf",
   "metadata": {},
   "outputs": [
    {
     "name": "stdout",
     "output_type": "stream",
     "text": [
      "Elapsed time:  2.0085196495056152\n"
     ]
    }
   ],
   "source": [
    "t1 = time()\n",
    "sleep_fn()\n",
    "t2 = time()\n",
    "print(\"Elapsed time: \", t2-t1)"
   ]
  },
  {
   "cell_type": "markdown",
   "id": "da1211b8-c40a-4bb5-bf2a-461a3427180e",
   "metadata": {},
   "source": [
    "### Need loops for fast code"
   ]
  },
  {
   "cell_type": "code",
   "execution_count": 38,
   "id": "a8884c4f-af54-45fe-8c1f-8828bd97a929",
   "metadata": {},
   "outputs": [
    {
     "name": "stdout",
     "output_type": "stream",
     "text": [
      "Sum:  45\n",
      "Elapsed time:  0.0\n"
     ]
    }
   ],
   "source": [
    "t1 = time()\n",
    "s=sum([i for i in range(10)])\n",
    "t2 = time()\n",
    "print(\"Sum: \", s)\n",
    "print(\"Elapsed time: \", t2-t1)"
   ]
  },
  {
   "cell_type": "code",
   "execution_count": 39,
   "id": "d844ae13-579a-4506-9baa-f8bd5172ee43",
   "metadata": {},
   "outputs": [
    {
     "name": "stdout",
     "output_type": "stream",
     "text": [
      "Sum:  45\n",
      "Elapsed time:  0.009997367858886719\n",
      "Average time:  9.997367858886719e-07\n"
     ]
    }
   ],
   "source": [
    "NUM_LOOPS = 10000\n",
    "t1 = time()\n",
    "for _ in range(NUM_LOOPS):\n",
    "    s=sum([i for i in range(10)])\n",
    "t2 = time()\n",
    "print(\"Sum: \", s)\n",
    "print(\"Elapsed time: \", t2-t1)\n",
    "print(\"Average time: \", (t2-t1)/NUM_LOOPS)"
   ]
  },
  {
   "cell_type": "markdown",
   "id": "cea6174c-084b-4ddf-8163-9b0fe8c6f228",
   "metadata": {},
   "source": [
    "### Timing decorator"
   ]
  },
  {
   "cell_type": "code",
   "execution_count": 40,
   "id": "62ae60a4-7b80-42e6-bfba-994f3e1241f4",
   "metadata": {},
   "outputs": [],
   "source": [
    "from functools import wraps\n",
    "from time import time\n",
    "\n",
    "def timing(func):\n",
    "    @wraps(func)\n",
    "    def wrap(*args, **kw):\n",
    "        ts = time()\n",
    "        result = func(*args, **kw)\n",
    "        te = time()\n",
    "        print (f\"Function '{func.__name__}' with arguments {args}, keywords {kw} took {te-ts} seconds to run\")\n",
    "        return result\n",
    "    return wrap"
   ]
  },
  {
   "cell_type": "code",
   "execution_count": 41,
   "id": "f54d2168-6bda-4f47-89d3-031dd778e0a6",
   "metadata": {},
   "outputs": [],
   "source": [
    "import numpy as np\n",
    "@timing\n",
    "def std_dev(n=10000):\n",
    "    a = np.random.randint(1,1000,size=n)\n",
    "    s = a.std()\n",
    "    return s"
   ]
  },
  {
   "cell_type": "code",
   "execution_count": 42,
   "id": "11f8a16f-c1e6-426f-9eb3-8f1a04f41b43",
   "metadata": {},
   "outputs": [
    {
     "name": "stdout",
     "output_type": "stream",
     "text": [
      "Function 'std_dev' with arguments (), keywords {'n': 1000000} took 0.014983892440795898 seconds to run\n"
     ]
    },
    {
     "data": {
      "text/plain": [
       "288.3815779322714"
      ]
     },
     "execution_count": 42,
     "metadata": {},
     "output_type": "execute_result"
    }
   ],
   "source": [
    "std_dev(n=1000000)"
   ]
  },
  {
   "cell_type": "code",
   "execution_count": 43,
   "id": "7d4e8c6e-ccb1-49b8-bbc7-f1ab5ae980d0",
   "metadata": {},
   "outputs": [
    {
     "name": "stdout",
     "output_type": "stream",
     "text": [
      "Function 'std_dev' with arguments (), keywords {'n': 10000000} took 0.1381065845489502 seconds to run\n"
     ]
    },
    {
     "data": {
      "text/plain": [
       "288.34350226690316"
      ]
     },
     "execution_count": 43,
     "metadata": {},
     "output_type": "execute_result"
    }
   ],
   "source": [
    "std_dev(n=10000000)"
   ]
  },
  {
   "cell_type": "code",
   "execution_count": 44,
   "id": "4a3684eb-0622-4c1f-bf65-c888b88013b2",
   "metadata": {},
   "outputs": [],
   "source": [
    "def gettime(func):\n",
    "    @wraps(func)\n",
    "    def wrap(*args, **kw):\n",
    "        ts = time()\n",
    "        result = func(*args, **kw)\n",
    "        te = time()\n",
    "        tdelta= round(1000*(te-ts),3)\n",
    "        return tdelta\n",
    "    return wrap"
   ]
  },
  {
   "cell_type": "code",
   "execution_count": 45,
   "id": "fdf30db5-e509-47f6-8087-7e6ddda29533",
   "metadata": {},
   "outputs": [],
   "source": [
    "@gettime\n",
    "def matrix_mult(n=100):\n",
    "    matrix_1 = np.random.normal(size=(n,n))\n",
    "    matrix_2 = np.random.normal(size=(n,n))\n",
    "    result = np.matmul(matrix_1,matrix_2)\n",
    "    return result"
   ]
  },
  {
   "cell_type": "code",
   "execution_count": 46,
   "id": "a07aa6d2-b11f-4965-80d0-aecbac2c8aa9",
   "metadata": {},
   "outputs": [],
   "source": [
    "@gettime\n",
    "def matrix_inv(n=100):\n",
    "    matrix = np.random.normal(size=(n,n))\n",
    "    result = np.linalg.inv(matrix)\n",
    "    return result"
   ]
  },
  {
   "cell_type": "code",
   "execution_count": 47,
   "id": "5f2aa42c-e96f-462a-8861-d6637ed602b0",
   "metadata": {},
   "outputs": [
    {
     "data": {
      "text/plain": [
       "696.05"
      ]
     },
     "execution_count": 47,
     "metadata": {},
     "output_type": "execute_result"
    }
   ],
   "source": [
    "matrix_inv(n=2000)"
   ]
  },
  {
   "cell_type": "code",
   "execution_count": 48,
   "id": "ae0a3ff7-febf-489f-a632-c49f9ff20f6a",
   "metadata": {},
   "outputs": [
    {
     "data": {
      "text/plain": [
       "1.0"
      ]
     },
     "execution_count": 48,
     "metadata": {},
     "output_type": "execute_result"
    }
   ],
   "source": [
    "matrix_mult(n=100)"
   ]
  },
  {
   "cell_type": "code",
   "execution_count": 49,
   "id": "c6dc6252-71f7-407a-a4de-4d609145ad0c",
   "metadata": {},
   "outputs": [],
   "source": [
    "matrix_mult_time = [matrix_mult(1000*i) for i in range(1,11)]"
   ]
  },
  {
   "cell_type": "code",
   "execution_count": 50,
   "id": "3cea359e-e0ad-4358-849a-a4f8a8bea66c",
   "metadata": {},
   "outputs": [
    {
     "data": {
      "text/plain": [
       "[93.745,\n",
       " 443.416,\n",
       " 1157.762,\n",
       " 2161.568,\n",
       " 3815.971,\n",
       " 6222.734,\n",
       " 9502.611,\n",
       " 12849.854,\n",
       " 19240.381,\n",
       " 26666.636]"
      ]
     },
     "execution_count": 50,
     "metadata": {},
     "output_type": "execute_result"
    }
   ],
   "source": [
    "matrix_mult_time"
   ]
  },
  {
   "cell_type": "code",
   "execution_count": 51,
   "id": "60eac1e0-3ecc-4209-bf69-1291a380858f",
   "metadata": {},
   "outputs": [],
   "source": [
    "import matplotlib.pyplot as plt"
   ]
  },
  {
   "cell_type": "code",
   "execution_count": 52,
   "id": "10e33ee0-7081-4401-ae11-b29c32ec9d77",
   "metadata": {},
   "outputs": [
    {
     "data": {
      "image/png": "[encoded data removed]",
      "text/plain": [
       "<Figure size 1000x500 with 1 Axes>"
      ]
     },
     "metadata": {
      "needs_background": "light"
     },
     "output_type": "display_data"
    }
   ],
   "source": [
    "dims = [1000*i for i in range(1,11)]\n",
    "plt.figure(figsize=(8,4),dpi=125)\n",
    "plt.title(\"Two-dimensional matrix multiplication complexity\\n\",fontsize=15)\n",
    "plt.plot(dims,matrix_mult_time,marker='o',markersize=8)\n",
    "#plt.xticks([i for i in range(5,30,5)])\n",
    "plt.xlabel(\"Number of dimensions\",fontsize=12)\n",
    "plt.ylabel(\"Time taken (milliseconds)\",fontsize=12)\n",
    "plt.grid(True)\n",
    "plt.show()"
   ]
  },
  {
   "cell_type": "markdown",
   "id": "66ec790f-21ab-42d9-a4aa-f88668bbb8dc",
   "metadata": {},
   "source": [
    "## Jupyter magic commands"
   ]
  },
  {
   "cell_type": "code",
   "execution_count": 53,
   "id": "eb9c4af5-61f0-417c-b94e-26b2f119df5c",
   "metadata": {},
   "outputs": [
    {
     "name": "stdout",
     "output_type": "stream",
     "text": [
      "2.46 ms ± 297 µs per loop (mean ± std. dev. of 7 runs, 100 loops each)\n"
     ]
    }
   ],
   "source": [
    "%timeit sum(range(100000))"
   ]
  },
  {
   "cell_type": "code",
   "execution_count": 54,
   "id": "45353176-4c3d-456c-a60c-9a53f0cd6a67",
   "metadata": {},
   "outputs": [
    {
     "name": "stdout",
     "output_type": "stream",
     "text": [
      "94.6 µs ± 3.08 µs per loop (mean ± std. dev. of 7 runs, 10000 loops each)\n"
     ]
    }
   ],
   "source": [
    "%timeit np.sum(np.arange(100000))"
   ]
  },
  {
   "cell_type": "code",
   "execution_count": 55,
   "id": "17fb5199-9e75-4d80-9242-135ddacd224a",
   "metadata": {},
   "outputs": [
    {
     "name": "stdout",
     "output_type": "stream",
     "text": [
      "5.31 ms ± 259 µs per loop (mean ± std. dev. of 7 runs, 100 loops each)\n"
     ]
    }
   ],
   "source": [
    "%%timeit\n",
    "s = 0\n",
    "for i in range(100000):\n",
    "    s+=i"
   ]
  },
  {
   "cell_type": "code",
   "execution_count": 56,
   "id": "79e97db9-d6fc-42f3-b862-461547388302",
   "metadata": {},
   "outputs": [
    {
     "name": "stdout",
     "output_type": "stream",
     "text": [
      "5.73 ms ± 500 µs per loop (mean ± std. dev. of 10 runs, 50 loops each)\n"
     ]
    }
   ],
   "source": [
    "%%timeit -n50 -r10\n",
    "s = 0\n",
    "for i in range(100000):\n",
    "    s+=i"
   ]
  }
 ],
 "metadata": {
  "kernelspec": {
   "display_name": "Python 3",
   "language": "python",
   "name": "python3"
  },
  "language_info": {
   "codemirror_mode": {
    "name": "ipython",
    "version": 3
   },
   "file_extension": ".py",
   "mimetype": "text/x-python",
   "name": "python",
   "nbconvert_exporter": "python",
   "pygments_lexer": "ipython3",
   "version": "3.9.4"
  }
 },
 "nbformat": 4,
 "nbformat_minor": 5
}
